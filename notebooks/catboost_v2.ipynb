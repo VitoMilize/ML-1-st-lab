{
 "cells": [
  {
   "cell_type": "code",
   "execution_count": 1,
   "id": "initial_id",
   "metadata": {
    "collapsed": true,
    "ExecuteTime": {
     "end_time": "2024-03-14T08:04:43.783581Z",
     "start_time": "2024-03-14T08:04:43.488359Z"
    }
   },
   "outputs": [],
   "source": [
    "import pandas as pd\n",
    "pd.set_option('future.no_silent_downcasting', True)"
   ]
  },
  {
   "cell_type": "code",
   "execution_count": 2,
   "outputs": [],
   "source": [
    "train_df = pd.read_csv('../train.csv', index_col='PassengerId')\n",
    "test_df = pd.read_csv('../test.csv', index_col='PassengerId')"
   ],
   "metadata": {
    "collapsed": false,
    "ExecuteTime": {
     "end_time": "2024-03-14T08:04:43.808969Z",
     "start_time": "2024-03-14T08:04:43.784587Z"
    }
   },
   "id": "71a157d436a52484"
  },
  {
   "cell_type": "code",
   "execution_count": 3,
   "outputs": [],
   "source": [
    "train_df.drop('Name', axis=1, inplace=True)\n",
    "test_df.drop('Name', axis=1, inplace=True)"
   ],
   "metadata": {
    "collapsed": false,
    "ExecuteTime": {
     "end_time": "2024-03-14T08:04:43.813936Z",
     "start_time": "2024-03-14T08:04:43.809979Z"
    }
   },
   "id": "d4a8514c7d63a98"
  },
  {
   "cell_type": "code",
   "outputs": [
    {
     "data": {
      "text/plain": "PassengerId\n0001_01    0\n0002_01    1\n0003_01    0\n0003_02    0\n0004_01    1\n          ..\n9276_01    0\n9278_01    0\n9279_01    1\n9280_01    0\n9280_02    1\nName: Transported, Length: 8693, dtype: object"
     },
     "execution_count": 4,
     "metadata": {},
     "output_type": "execute_result"
    }
   ],
   "source": [
    "train_df['Transported'].replace( {False: 0, True: 1} )"
   ],
   "metadata": {
    "collapsed": false,
    "ExecuteTime": {
     "end_time": "2024-03-14T08:04:43.822141Z",
     "start_time": "2024-03-14T08:04:43.814943Z"
    }
   },
   "id": "613a06d458289e6d",
   "execution_count": 4
  },
  {
   "cell_type": "code",
   "outputs": [],
   "source": [
    "train_df[['deck','num', 'side']] = train_df['Cabin'].str.split('/', expand=True)\n",
    "test_df[['deck','num', 'side']] = test_df['Cabin'].str.split('/', expand=True)\n",
    "\n",
    "train_df.drop('Cabin', axis=1, inplace=True)\n",
    "test_df.drop('Cabin', axis=1, inplace=True)"
   ],
   "metadata": {
    "collapsed": false,
    "ExecuteTime": {
     "end_time": "2024-03-14T08:04:43.836507Z",
     "start_time": "2024-03-14T08:04:43.823149Z"
    }
   },
   "id": "b40f8ed3346146b2",
   "execution_count": 5
  },
  {
   "cell_type": "code",
   "outputs": [
    {
     "name": "stdout",
     "output_type": "stream",
     "text": [
      "Object cols -- ['HomePlanet', 'CryoSleep', 'Destination', 'VIP', 'deck', 'num', 'side']\n",
      "Numeric cols -- ['Age', 'RoomService', 'FoodCourt', 'ShoppingMall', 'Spa', 'VRDeck']\n"
     ]
    }
   ],
   "source": [
    "object_columns = [column for column in train_df.columns if train_df[column].dtype == 'object' or train_df[column].dtype == 'category']\n",
    "numeric_columns = [column for column in train_df.columns if train_df[column].dtype == 'float64']\n",
    "\n",
    "print(f'Object cols -- {object_columns}')\n",
    "print(f'Numeric cols -- {numeric_columns}')"
   ],
   "metadata": {
    "collapsed": false,
    "ExecuteTime": {
     "end_time": "2024-03-14T08:04:43.841989Z",
     "start_time": "2024-03-14T08:04:43.836507Z"
    }
   },
   "id": "a1111dad6ccca95e",
   "execution_count": 6
  },
  {
   "cell_type": "code",
   "outputs": [],
   "source": [
    "expense_columns = ['RoomService', 'FoodCourt', 'ShoppingMall', 'Spa', 'VRDeck']\n",
    "\n",
    "train_df['SumSpends'] = train_df[expense_columns].sum(axis=1)\n",
    "test_df['SumSpends'] = test_df[expense_columns].sum(axis=1)"
   ],
   "metadata": {
    "collapsed": false,
    "ExecuteTime": {
     "end_time": "2024-03-14T08:04:43.848785Z",
     "start_time": "2024-03-14T08:04:43.842998Z"
    }
   },
   "id": "a51139f7ab33be78",
   "execution_count": 7
  },
  {
   "cell_type": "code",
   "outputs": [
    {
     "data": {
      "text/plain": "['CryoSleep',\n 'ShoppingMall',\n 'VIP',\n 'HomePlanet',\n 'deck',\n 'num',\n 'side',\n 'VRDeck',\n 'FoodCourt',\n 'Spa',\n 'Destination',\n 'RoomService',\n 'Age']"
     },
     "execution_count": 8,
     "metadata": {},
     "output_type": "execute_result"
    }
   ],
   "source": [
    "null_cols = train_df.isnull().sum().sort_values(ascending=False)\n",
    "null_cols = list(null_cols[null_cols>1].index)\n",
    "null_cols"
   ],
   "metadata": {
    "collapsed": false,
    "ExecuteTime": {
     "end_time": "2024-03-14T08:04:43.855862Z",
     "start_time": "2024-03-14T08:04:43.849794Z"
    }
   },
   "id": "c127390e606b1339",
   "execution_count": 8
  },
  {
   "cell_type": "code",
   "outputs": [
    {
     "name": "stdout",
     "output_type": "stream",
     "text": [
      "Train DF shape: (8693, 15)\n",
      "Test DF shape: (4277, 14)\n"
     ]
    }
   ],
   "source": [
    "print(f'Train DF shape: {train_df.shape}')\n",
    "print(f'Test DF shape: {test_df.shape}')"
   ],
   "metadata": {
    "collapsed": false,
    "ExecuteTime": {
     "end_time": "2024-03-14T08:04:43.859374Z",
     "start_time": "2024-03-14T08:04:43.856869Z"
    }
   },
   "id": "70d1cd4595ea2aad",
   "execution_count": 9
  },
  {
   "cell_type": "code",
   "outputs": [],
   "source": [
    "from sklearn.preprocessing import OrdinalEncoder\n",
    "\n",
    "oc = OrdinalEncoder()\n",
    "\n",
    "df_for_encode = pd.concat([train_df, test_df])\n",
    "\n",
    "df_for_encode[object_columns] = df_for_encode[object_columns].astype('category')\n",
    "\n",
    "df_for_encode[object_columns] = oc.fit_transform(df_for_encode[object_columns])\n",
    "\n",
    "del train_df, test_df\n",
    "\n",
    "train_df = df_for_encode.iloc[:8693, :]\n",
    "test_df = df_for_encode.iloc[8693: , :]\n",
    "\n",
    "del df_for_encode\n",
    "\n",
    "test_df.drop('Transported', inplace=True, axis=1)"
   ],
   "metadata": {
    "collapsed": false,
    "ExecuteTime": {
     "end_time": "2024-03-14T08:04:44.257174Z",
     "start_time": "2024-03-14T08:04:43.860384Z"
    }
   },
   "id": "4b7e3614ba1fc35",
   "execution_count": 10
  },
  {
   "cell_type": "code",
   "outputs": [
    {
     "name": "stdout",
     "output_type": "stream",
     "text": [
      "Train DF shape: (8693, 15)\n",
      "Test DF shape: (4277, 14)\n"
     ]
    }
   ],
   "source": [
    "print(f'Train DF shape: {train_df.shape}')\n",
    "print(f'Test DF shape: {test_df.shape}')"
   ],
   "metadata": {
    "collapsed": false,
    "ExecuteTime": {
     "end_time": "2024-03-14T08:04:44.260882Z",
     "start_time": "2024-03-14T08:04:44.258183Z"
    }
   },
   "id": "ff61a80bbf13d500",
   "execution_count": 11
  },
  {
   "cell_type": "code",
   "outputs": [],
   "source": [
    "from sklearn.impute import SimpleImputer\n",
    "from sklearn.compose import ColumnTransformer\n",
    "\n",
    "\n",
    "ct = ColumnTransformer([(\"imp\", SimpleImputer(strategy='mean'), null_cols)])\n",
    "    \n",
    "train_df[null_cols] = ct.fit_transform(train_df[null_cols])\n",
    "test_df[null_cols] = ct.fit_transform(test_df[null_cols])"
   ],
   "metadata": {
    "collapsed": false,
    "ExecuteTime": {
     "end_time": "2024-03-14T08:04:44.345097Z",
     "start_time": "2024-03-14T08:04:44.260882Z"
    }
   },
   "id": "8bfe5d8b5ed32d6f",
   "execution_count": 12
  },
  {
   "cell_type": "code",
   "outputs": [
    {
     "data": {
      "text/plain": "             HomePlanet  CryoSleep  Destination   Age  VIP  RoomService  \\\nPassengerId                                                               \n0001_01             1.0        0.0          2.0  39.0  0.0          0.0   \n0002_01             0.0        0.0          2.0  24.0  0.0        109.0   \n0003_01             1.0        0.0          2.0  58.0  1.0         43.0   \n0003_02             1.0        0.0          2.0  33.0  0.0          0.0   \n0004_01             0.0        0.0          2.0  16.0  0.0        303.0   \n...                 ...        ...          ...   ...  ...          ...   \n9276_01             1.0        0.0          0.0  41.0  1.0          0.0   \n9278_01             0.0        1.0          1.0  18.0  0.0          0.0   \n9279_01             0.0        0.0          2.0  26.0  0.0          0.0   \n9280_01             1.0        0.0          0.0  32.0  0.0          0.0   \n9280_02             1.0        0.0          2.0  44.0  0.0        126.0   \n\n             FoodCourt  ShoppingMall     Spa  VRDeck Transported  deck  \\\nPassengerId                                                              \n0001_01            0.0           0.0     0.0     0.0       False   1.0   \n0002_01            9.0          25.0   549.0    44.0        True   5.0   \n0003_01         3576.0           0.0  6715.0    49.0       False   0.0   \n0003_02         1283.0         371.0  3329.0   193.0       False   0.0   \n0004_01           70.0         151.0   565.0     2.0        True   5.0   \n...                ...           ...     ...     ...         ...   ...   \n9276_01         6819.0           0.0  1643.0    74.0       False   0.0   \n9278_01            0.0           0.0     0.0     0.0       False   6.0   \n9279_01            0.0        1872.0     1.0     0.0        True   6.0   \n9280_01         1049.0           0.0   353.0  3235.0       False   4.0   \n9280_02         4688.0           0.0     0.0    12.0        True   4.0   \n\n                num  side  SumSpends  \nPassengerId                           \n0001_01         0.0   0.0        0.0  \n0002_01         0.0   1.0      736.0  \n0003_01         0.0   1.0    10383.0  \n0003_02         0.0   1.0     5176.0  \n0004_01         1.0   1.0     1091.0  \n...             ...   ...        ...  \n9276_01      1872.0   0.0     8536.0  \n9278_01       556.0   1.0        0.0  \n9279_01       559.0   1.0     1873.0  \n9280_01      1460.0   1.0     4637.0  \n9280_02      1460.0   1.0     4826.0  \n\n[8693 rows x 15 columns]",
      "text/html": "<div>\n<style scoped>\n    .dataframe tbody tr th:only-of-type {\n        vertical-align: middle;\n    }\n\n    .dataframe tbody tr th {\n        vertical-align: top;\n    }\n\n    .dataframe thead th {\n        text-align: right;\n    }\n</style>\n<table border=\"1\" class=\"dataframe\">\n  <thead>\n    <tr style=\"text-align: right;\">\n      <th></th>\n      <th>HomePlanet</th>\n      <th>CryoSleep</th>\n      <th>Destination</th>\n      <th>Age</th>\n      <th>VIP</th>\n      <th>RoomService</th>\n      <th>FoodCourt</th>\n      <th>ShoppingMall</th>\n      <th>Spa</th>\n      <th>VRDeck</th>\n      <th>Transported</th>\n      <th>deck</th>\n      <th>num</th>\n      <th>side</th>\n      <th>SumSpends</th>\n    </tr>\n    <tr>\n      <th>PassengerId</th>\n      <th></th>\n      <th></th>\n      <th></th>\n      <th></th>\n      <th></th>\n      <th></th>\n      <th></th>\n      <th></th>\n      <th></th>\n      <th></th>\n      <th></th>\n      <th></th>\n      <th></th>\n      <th></th>\n      <th></th>\n    </tr>\n  </thead>\n  <tbody>\n    <tr>\n      <th>0001_01</th>\n      <td>1.0</td>\n      <td>0.0</td>\n      <td>2.0</td>\n      <td>39.0</td>\n      <td>0.0</td>\n      <td>0.0</td>\n      <td>0.0</td>\n      <td>0.0</td>\n      <td>0.0</td>\n      <td>0.0</td>\n      <td>False</td>\n      <td>1.0</td>\n      <td>0.0</td>\n      <td>0.0</td>\n      <td>0.0</td>\n    </tr>\n    <tr>\n      <th>0002_01</th>\n      <td>0.0</td>\n      <td>0.0</td>\n      <td>2.0</td>\n      <td>24.0</td>\n      <td>0.0</td>\n      <td>109.0</td>\n      <td>9.0</td>\n      <td>25.0</td>\n      <td>549.0</td>\n      <td>44.0</td>\n      <td>True</td>\n      <td>5.0</td>\n      <td>0.0</td>\n      <td>1.0</td>\n      <td>736.0</td>\n    </tr>\n    <tr>\n      <th>0003_01</th>\n      <td>1.0</td>\n      <td>0.0</td>\n      <td>2.0</td>\n      <td>58.0</td>\n      <td>1.0</td>\n      <td>43.0</td>\n      <td>3576.0</td>\n      <td>0.0</td>\n      <td>6715.0</td>\n      <td>49.0</td>\n      <td>False</td>\n      <td>0.0</td>\n      <td>0.0</td>\n      <td>1.0</td>\n      <td>10383.0</td>\n    </tr>\n    <tr>\n      <th>0003_02</th>\n      <td>1.0</td>\n      <td>0.0</td>\n      <td>2.0</td>\n      <td>33.0</td>\n      <td>0.0</td>\n      <td>0.0</td>\n      <td>1283.0</td>\n      <td>371.0</td>\n      <td>3329.0</td>\n      <td>193.0</td>\n      <td>False</td>\n      <td>0.0</td>\n      <td>0.0</td>\n      <td>1.0</td>\n      <td>5176.0</td>\n    </tr>\n    <tr>\n      <th>0004_01</th>\n      <td>0.0</td>\n      <td>0.0</td>\n      <td>2.0</td>\n      <td>16.0</td>\n      <td>0.0</td>\n      <td>303.0</td>\n      <td>70.0</td>\n      <td>151.0</td>\n      <td>565.0</td>\n      <td>2.0</td>\n      <td>True</td>\n      <td>5.0</td>\n      <td>1.0</td>\n      <td>1.0</td>\n      <td>1091.0</td>\n    </tr>\n    <tr>\n      <th>...</th>\n      <td>...</td>\n      <td>...</td>\n      <td>...</td>\n      <td>...</td>\n      <td>...</td>\n      <td>...</td>\n      <td>...</td>\n      <td>...</td>\n      <td>...</td>\n      <td>...</td>\n      <td>...</td>\n      <td>...</td>\n      <td>...</td>\n      <td>...</td>\n      <td>...</td>\n    </tr>\n    <tr>\n      <th>9276_01</th>\n      <td>1.0</td>\n      <td>0.0</td>\n      <td>0.0</td>\n      <td>41.0</td>\n      <td>1.0</td>\n      <td>0.0</td>\n      <td>6819.0</td>\n      <td>0.0</td>\n      <td>1643.0</td>\n      <td>74.0</td>\n      <td>False</td>\n      <td>0.0</td>\n      <td>1872.0</td>\n      <td>0.0</td>\n      <td>8536.0</td>\n    </tr>\n    <tr>\n      <th>9278_01</th>\n      <td>0.0</td>\n      <td>1.0</td>\n      <td>1.0</td>\n      <td>18.0</td>\n      <td>0.0</td>\n      <td>0.0</td>\n      <td>0.0</td>\n      <td>0.0</td>\n      <td>0.0</td>\n      <td>0.0</td>\n      <td>False</td>\n      <td>6.0</td>\n      <td>556.0</td>\n      <td>1.0</td>\n      <td>0.0</td>\n    </tr>\n    <tr>\n      <th>9279_01</th>\n      <td>0.0</td>\n      <td>0.0</td>\n      <td>2.0</td>\n      <td>26.0</td>\n      <td>0.0</td>\n      <td>0.0</td>\n      <td>0.0</td>\n      <td>1872.0</td>\n      <td>1.0</td>\n      <td>0.0</td>\n      <td>True</td>\n      <td>6.0</td>\n      <td>559.0</td>\n      <td>1.0</td>\n      <td>1873.0</td>\n    </tr>\n    <tr>\n      <th>9280_01</th>\n      <td>1.0</td>\n      <td>0.0</td>\n      <td>0.0</td>\n      <td>32.0</td>\n      <td>0.0</td>\n      <td>0.0</td>\n      <td>1049.0</td>\n      <td>0.0</td>\n      <td>353.0</td>\n      <td>3235.0</td>\n      <td>False</td>\n      <td>4.0</td>\n      <td>1460.0</td>\n      <td>1.0</td>\n      <td>4637.0</td>\n    </tr>\n    <tr>\n      <th>9280_02</th>\n      <td>1.0</td>\n      <td>0.0</td>\n      <td>2.0</td>\n      <td>44.0</td>\n      <td>0.0</td>\n      <td>126.0</td>\n      <td>4688.0</td>\n      <td>0.0</td>\n      <td>0.0</td>\n      <td>12.0</td>\n      <td>True</td>\n      <td>4.0</td>\n      <td>1460.0</td>\n      <td>1.0</td>\n      <td>4826.0</td>\n    </tr>\n  </tbody>\n</table>\n<p>8693 rows × 15 columns</p>\n</div>"
     },
     "execution_count": 13,
     "metadata": {},
     "output_type": "execute_result"
    }
   ],
   "source": [
    "X = train_df.copy()\n",
    "y = X.pop('Transported')\n",
    "train_df.copy()"
   ],
   "metadata": {
    "collapsed": false,
    "ExecuteTime": {
     "end_time": "2024-03-14T08:04:44.365070Z",
     "start_time": "2024-03-14T08:04:44.345097Z"
    }
   },
   "id": "eccbf715e73d2283",
   "execution_count": 13
  },
  {
   "cell_type": "code",
   "outputs": [],
   "source": [
    "from catboost import CatBoostClassifier\n",
    "\n",
    "best_features = ['CryoSleep', 'RoomService', 'Spa', 'VRDeck', 'deck', 'side', 'SumSpends']"
   ],
   "metadata": {
    "collapsed": false,
    "ExecuteTime": {
     "end_time": "2024-03-14T08:04:44.427707Z",
     "start_time": "2024-03-14T08:04:44.366081Z"
    }
   },
   "id": "aab35ee9e2ecfec",
   "execution_count": 14
  },
  {
   "cell_type": "code",
   "outputs": [],
   "source": [
    "model = CatBoostClassifier(verbose=False, eval_metric='Accuracy', iterations=492, learning_rate=0.05513269656476656, depth=6)\n",
    "model.fit(X[best_features], y)\n",
    "prediction = model.predict(test_df[best_features])"
   ],
   "metadata": {
    "collapsed": false,
    "ExecuteTime": {
     "end_time": "2024-03-14T08:04:46.391964Z",
     "start_time": "2024-03-14T08:04:44.428718Z"
    }
   },
   "id": "db6335093fa4f0a5",
   "execution_count": 15
  },
  {
   "cell_type": "code",
   "outputs": [
    {
     "name": "stderr",
     "output_type": "stream",
     "text": [
      "C:\\Users\\vitya\\AppData\\Local\\Temp\\ipykernel_10768\\1469728181.py:4: FutureWarning: A value is trying to be set on a copy of a DataFrame or Series through chained assignment using an inplace method.\n",
      "The behavior will change in pandas 3.0. This inplace method will never work because the intermediate object on which we are setting values always behaves as a copy.\n",
      "\n",
      "For example, when doing 'df[col].method(value, inplace=True)', try using 'df.method({col: value}, inplace=True)' or df[col] = df[col].method(value) instead, to perform the operation inplace on the original object.\n",
      "\n",
      "\n",
      "  final['Transported'].replace(0, False, inplace=True)\n",
      "C:\\Users\\vitya\\AppData\\Local\\Temp\\ipykernel_10768\\1469728181.py:5: FutureWarning: A value is trying to be set on a copy of a DataFrame or Series through chained assignment using an inplace method.\n",
      "The behavior will change in pandas 3.0. This inplace method will never work because the intermediate object on which we are setting values always behaves as a copy.\n",
      "\n",
      "For example, when doing 'df[col].method(value, inplace=True)', try using 'df.method({col: value}, inplace=True)' or df[col] = df[col].method(value) instead, to perform the operation inplace on the original object.\n",
      "\n",
      "\n",
      "  final['Transported'].replace(1, True, inplace=True)\n"
     ]
    }
   ],
   "source": [
    "final = pd.DataFrame()\n",
    "final.index = test_df.index\n",
    "final['Transported'] = prediction\n",
    "final['Transported'].replace(0, False, inplace=True)\n",
    "final['Transported'].replace(1, True, inplace=True)\n",
    "final.to_csv('prediction.csv')"
   ],
   "metadata": {
    "collapsed": false,
    "ExecuteTime": {
     "end_time": "2024-03-14T08:04:46.403651Z",
     "start_time": "2024-03-14T08:04:46.392970Z"
    }
   },
   "id": "4154828db418cafb",
   "execution_count": 16
  }
 ],
 "metadata": {
  "kernelspec": {
   "display_name": "Python 3",
   "language": "python",
   "name": "python3"
  },
  "language_info": {
   "codemirror_mode": {
    "name": "ipython",
    "version": 2
   },
   "file_extension": ".py",
   "mimetype": "text/x-python",
   "name": "python",
   "nbconvert_exporter": "python",
   "pygments_lexer": "ipython2",
   "version": "2.7.6"
  }
 },
 "nbformat": 4,
 "nbformat_minor": 5
}
